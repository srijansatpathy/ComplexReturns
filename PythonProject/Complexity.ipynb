{
 "cells": [
  {
   "cell_type": "code",
   "execution_count": 1,
   "id": "c1e975af",
   "metadata": {},
   "outputs": [
    {
     "name": "stdout",
     "output_type": "stream",
     "text": [
      "Collecting en-core-web-sm==3.2.0\n",
      "  Downloading https://github.com/explosion/spacy-models/releases/download/en_core_web_sm-3.2.0/en_core_web_sm-3.2.0-py3-none-any.whl (13.9 MB)\n",
      "Requirement already satisfied: spacy<3.3.0,>=3.2.0 in /opt/anaconda3/lib/python3.9/site-packages (from en-core-web-sm==3.2.0) (3.2.2)\n",
      "Requirement already satisfied: typer<0.5.0,>=0.3.0 in /opt/anaconda3/lib/python3.9/site-packages (from spacy<3.3.0,>=3.2.0->en-core-web-sm==3.2.0) (0.4.0)\n",
      "Requirement already satisfied: blis<0.8.0,>=0.4.0 in /opt/anaconda3/lib/python3.9/site-packages (from spacy<3.3.0,>=3.2.0->en-core-web-sm==3.2.0) (0.7.5)\n",
      "Requirement already satisfied: thinc<8.1.0,>=8.0.12 in /opt/anaconda3/lib/python3.9/site-packages (from spacy<3.3.0,>=3.2.0->en-core-web-sm==3.2.0) (8.0.13)\n",
      "Requirement already satisfied: setuptools in /opt/anaconda3/lib/python3.9/site-packages (from spacy<3.3.0,>=3.2.0->en-core-web-sm==3.2.0) (58.0.4)\n",
      "Requirement already satisfied: srsly<3.0.0,>=2.4.1 in /opt/anaconda3/lib/python3.9/site-packages (from spacy<3.3.0,>=3.2.0->en-core-web-sm==3.2.0) (2.4.2)\n",
      "Requirement already satisfied: catalogue<2.1.0,>=2.0.6 in /opt/anaconda3/lib/python3.9/site-packages (from spacy<3.3.0,>=3.2.0->en-core-web-sm==3.2.0) (2.0.6)\n",
      "Requirement already satisfied: pydantic!=1.8,!=1.8.1,<1.9.0,>=1.7.4 in /opt/anaconda3/lib/python3.9/site-packages (from spacy<3.3.0,>=3.2.0->en-core-web-sm==3.2.0) (1.8.2)\n",
      "Requirement already satisfied: preshed<3.1.0,>=3.0.2 in /opt/anaconda3/lib/python3.9/site-packages (from spacy<3.3.0,>=3.2.0->en-core-web-sm==3.2.0) (3.0.6)\n",
      "Requirement already satisfied: pathy>=0.3.5 in /opt/anaconda3/lib/python3.9/site-packages (from spacy<3.3.0,>=3.2.0->en-core-web-sm==3.2.0) (0.6.1)\n",
      "Requirement already satisfied: langcodes<4.0.0,>=3.2.0 in /opt/anaconda3/lib/python3.9/site-packages (from spacy<3.3.0,>=3.2.0->en-core-web-sm==3.2.0) (3.3.0)\n",
      "Requirement already satisfied: murmurhash<1.1.0,>=0.28.0 in /opt/anaconda3/lib/python3.9/site-packages (from spacy<3.3.0,>=3.2.0->en-core-web-sm==3.2.0) (1.0.6)\n",
      "Requirement already satisfied: spacy-loggers<2.0.0,>=1.0.0 in /opt/anaconda3/lib/python3.9/site-packages (from spacy<3.3.0,>=3.2.0->en-core-web-sm==3.2.0) (1.0.1)\n",
      "Requirement already satisfied: cymem<2.1.0,>=2.0.2 in /opt/anaconda3/lib/python3.9/site-packages (from spacy<3.3.0,>=3.2.0->en-core-web-sm==3.2.0) (2.0.6)\n",
      "Requirement already satisfied: tqdm<5.0.0,>=4.38.0 in /opt/anaconda3/lib/python3.9/site-packages (from spacy<3.3.0,>=3.2.0->en-core-web-sm==3.2.0) (4.62.3)\n",
      "Requirement already satisfied: requests<3.0.0,>=2.13.0 in /opt/anaconda3/lib/python3.9/site-packages (from spacy<3.3.0,>=3.2.0->en-core-web-sm==3.2.0) (2.26.0)\n",
      "Requirement already satisfied: jinja2 in /opt/anaconda3/lib/python3.9/site-packages (from spacy<3.3.0,>=3.2.0->en-core-web-sm==3.2.0) (2.11.3)\n",
      "Requirement already satisfied: packaging>=20.0 in /opt/anaconda3/lib/python3.9/site-packages (from spacy<3.3.0,>=3.2.0->en-core-web-sm==3.2.0) (21.0)\n",
      "Requirement already satisfied: wasabi<1.1.0,>=0.8.1 in /opt/anaconda3/lib/python3.9/site-packages (from spacy<3.3.0,>=3.2.0->en-core-web-sm==3.2.0) (0.9.0)\n",
      "Requirement already satisfied: numpy>=1.15.0 in /opt/anaconda3/lib/python3.9/site-packages (from spacy<3.3.0,>=3.2.0->en-core-web-sm==3.2.0) (1.20.3)\n",
      "Requirement already satisfied: spacy-legacy<3.1.0,>=3.0.8 in /opt/anaconda3/lib/python3.9/site-packages (from spacy<3.3.0,>=3.2.0->en-core-web-sm==3.2.0) (3.0.9)\n",
      "Requirement already satisfied: pyparsing>=2.0.2 in /opt/anaconda3/lib/python3.9/site-packages (from packaging>=20.0->spacy<3.3.0,>=3.2.0->en-core-web-sm==3.2.0) (3.0.4)\n",
      "Requirement already satisfied: smart-open<6.0.0,>=5.0.0 in /opt/anaconda3/lib/python3.9/site-packages (from pathy>=0.3.5->spacy<3.3.0,>=3.2.0->en-core-web-sm==3.2.0) (5.2.1)\n",
      "Requirement already satisfied: typing-extensions>=3.7.4.3 in /opt/anaconda3/lib/python3.9/site-packages (from pydantic!=1.8,!=1.8.1,<1.9.0,>=1.7.4->spacy<3.3.0,>=3.2.0->en-core-web-sm==3.2.0) (3.10.0.2)\n",
      "Requirement already satisfied: charset-normalizer~=2.0.0 in /opt/anaconda3/lib/python3.9/site-packages (from requests<3.0.0,>=2.13.0->spacy<3.3.0,>=3.2.0->en-core-web-sm==3.2.0) (2.0.4)\n",
      "Requirement already satisfied: urllib3<1.27,>=1.21.1 in /opt/anaconda3/lib/python3.9/site-packages (from requests<3.0.0,>=2.13.0->spacy<3.3.0,>=3.2.0->en-core-web-sm==3.2.0) (1.26.7)\n",
      "Requirement already satisfied: certifi>=2017.4.17 in /opt/anaconda3/lib/python3.9/site-packages (from requests<3.0.0,>=2.13.0->spacy<3.3.0,>=3.2.0->en-core-web-sm==3.2.0) (2021.10.8)\n",
      "Requirement already satisfied: idna<4,>=2.5 in /opt/anaconda3/lib/python3.9/site-packages (from requests<3.0.0,>=2.13.0->spacy<3.3.0,>=3.2.0->en-core-web-sm==3.2.0) (3.2)\n",
      "Requirement already satisfied: click<9.0.0,>=7.1.1 in /opt/anaconda3/lib/python3.9/site-packages (from typer<0.5.0,>=0.3.0->spacy<3.3.0,>=3.2.0->en-core-web-sm==3.2.0) (8.0.3)\n",
      "Requirement already satisfied: MarkupSafe>=0.23 in /opt/anaconda3/lib/python3.9/site-packages (from jinja2->spacy<3.3.0,>=3.2.0->en-core-web-sm==3.2.0) (1.1.1)\n",
      "\u001b[38;5;2m✔ Download and installation successful\u001b[0m\n",
      "You can now load the package via spacy.load('en_core_web_sm')\n"
     ]
    }
   ],
   "source": [
    "import requests\n",
    "from bs4 import BeautifulSoup\n",
    "from gunningfog import GunningFog\n",
    "\n",
    "# session = requests.Session()\n",
    "# session.headers = {\n",
    "#     \"User-Agent\": \"Mozilla/5.0 (Windows NT 10.0; Win64; x64) AppleWebKit/537.36 (KHTML, like Gecko) Chrome/71.1.2222.33 Safari/537.36\",\n",
    "#     \"Accept-Encoding\": \"*\",\n",
    "#     \"Connection\": \"keep-alive\"\n",
    "# }\n",
    "# response = session.get(request_url)"
   ]
  },
  {
   "cell_type": "code",
   "execution_count": 2,
   "id": "b2de6e36",
   "metadata": {},
   "outputs": [],
   "source": [
    "# url = \"https://seekingalpha.com/article/4236503-apple-inc-aapl-ceo-tim-cook-on-q1-2019-results-earnings-call-transcript\"\n",
    "# req = requests.get(url)\n",
    "# # https://github.com/h5py/h5py/issues/1477"
   ]
  },
  {
   "cell_type": "code",
   "execution_count": 3,
   "id": "d1a9ed3b",
   "metadata": {},
   "outputs": [],
   "source": [
    "# soup = BeautifulSoup(req.content, \"html.parser\")"
   ]
  },
  {
   "cell_type": "code",
   "execution_count": 4,
   "id": "7c125100",
   "metadata": {},
   "outputs": [],
   "source": [
    "# text = soup.get_text().split(\"\\n\")"
   ]
  },
  {
   "cell_type": "code",
   "execution_count": 5,
   "id": "00532513",
   "metadata": {},
   "outputs": [],
   "source": [
    "# execs = []\n",
    "# for i in range(len(text)):\n",
    "#     if text[i] == \"Company Participants\":\n",
    "#         pos = i + 1\n",
    "#         while text[pos] != \"Conference Call Participants\":\n",
    "#             execs.append(text[pos].split(\"-\")[0][:-1])\n",
    "#             pos += 1\n",
    "#         break"
   ]
  },
  {
   "cell_type": "code",
   "execution_count": 6,
   "id": "224efcfa",
   "metadata": {},
   "outputs": [],
   "source": [
    "# start = text.index(execs[0]) + 1\n",
    "\n",
    "# def make_lst(start, text):\n",
    "#     exec_lst = []\n",
    "#     for i in range(start, len(text)):\n",
    "#         phrase = text[i].strip()\n",
    "#         if phrase == \"Question-and-Answer Session\":\n",
    "#             break\n",
    "#         elif phrase in execs:\n",
    "#             continue\n",
    "#         else:\n",
    "#             exec_lst.append(phrase)\n",
    "#     return exec_lst\n",
    "\n",
    "# exec_lst = make_lst(start, text)"
   ]
  },
  {
   "cell_type": "code",
   "execution_count": 7,
   "id": "9c24b581",
   "metadata": {},
   "outputs": [],
   "source": [
    "# exec_str = \"\"\n",
    "# for phrase in exec_lst:\n",
    "#     exec_str += phrase + \" \""
   ]
  },
  {
   "cell_type": "code",
   "execution_count": 8,
   "id": "1d800fbb",
   "metadata": {},
   "outputs": [],
   "source": [
    "# fog = GunningFog(exec_str)"
   ]
  },
  {
   "cell_type": "code",
   "execution_count": 9,
   "id": "5044461a",
   "metadata": {},
   "outputs": [],
   "source": [
    "# print(fog.gFogIndex())"
   ]
  },
  {
   "cell_type": "code",
   "execution_count": 10,
   "id": "c9dace9f",
   "metadata": {},
   "outputs": [],
   "source": [
    "# import pandas as pd"
   ]
  },
  {
   "cell_type": "code",
   "execution_count": 11,
   "id": "87975e5c",
   "metadata": {},
   "outputs": [],
   "source": [
    "# df = pd.read_csv('data.csv')"
   ]
  },
  {
   "cell_type": "code",
   "execution_count": 12,
   "id": "08730acf",
   "metadata": {},
   "outputs": [],
   "source": [
    "# companies = list(df)"
   ]
  },
  {
   "cell_type": "code",
   "execution_count": 13,
   "id": "3f328f61",
   "metadata": {},
   "outputs": [],
   "source": [
    "# companies = companies[1:]\n",
    "# print(companies)"
   ]
  },
  {
   "cell_type": "code",
   "execution_count": 14,
   "id": "ee9f2a7f",
   "metadata": {},
   "outputs": [],
   "source": [
    "# def make_lst(start, text):\n",
    "#             exec_lst = []\n",
    "#             for i in range(start, len(text)):\n",
    "#                 phrase = text[i].strip()\n",
    "#                 if phrase == \"Question-and-Answer Session\":\n",
    "#                     break\n",
    "#                 elif phrase in execs:\n",
    "#                     continue\n",
    "#                 else:\n",
    "#                     exec_lst.append(phrase)\n",
    "#             return exec_lst\n",
    "        \n",
    "def gunning_fog_lst(comp_urls):\n",
    "    complexities = []\n",
    "    for url in comp_urls:\n",
    "        req = requests.get(url)\n",
    "        soup = BeautifulSoup(req.content, \"html.parser\")\n",
    "        text = soup.get_text().split(\"\\n\")\n",
    "        \n",
    "        execs = []\n",
    "        for i in range(len(text)):\n",
    "            if text[i] == \"Company Participants\":\n",
    "                pos = i + 1\n",
    "                while text[pos] != \"Conference Call Participants\":\n",
    "                    execs.append(text[pos].split(\"-\")[0][:-1])\n",
    "                    pos += 1\n",
    "                break\n",
    "                \n",
    "        start = text.index(execs[0]) + 1\n",
    "        exec_lst = []\n",
    "        for i in range(start, len(text)):\n",
    "            phrase = text[i].strip()\n",
    "            if phrase == \"Question-and-Answer Session\":\n",
    "                break\n",
    "            elif phrase in execs:\n",
    "                continue\n",
    "            else:\n",
    "                exec_lst.append(phrase)\n",
    "                    \n",
    "        exec_str = \"\"\n",
    "        for phrase in exec_lst:\n",
    "            exec_str += phrase + \" \"\n",
    "            \n",
    "        fog = GunningFog(exec_str)\n",
    "        \n",
    "        complexities.append(fog.gFogIndex())\n",
    "    return complexities"
   ]
  },
  {
   "cell_type": "code",
   "execution_count": 15,
   "id": "49168d1d",
   "metadata": {},
   "outputs": [
    {
     "name": "stdout",
     "output_type": "stream",
     "text": [
      "[15.436101225702547, 13.360783990051559, 14.085951219512197, 13.616715716313989, 14.459105668058095, 13.62897531771649, 15.602926057840225, 13.524035740501683, 11.710533018009825, 13.5795195954488, 13.613526804687027, 12.268684025334272, 14.20848192547592]\n"
     ]
    }
   ],
   "source": [
    "# AIG, AIMC, ALL, ALLT, BCO, CADE, CLAR, DE, DXPE, HHC, HURN, INFU, INSM\n",
    "# session = requests.Session()\n",
    "# session.headers = {\n",
    "#     \"User-Agent\": \"Mozilla/5.0 (Windows NT 10.0; Win64; x64) AppleWebKit/537.36 (KHTML, like Gecko) Chrome/71.1.2222.33 Safari/537.36\",\n",
    "#     \"Accept-Encoding\": \"*\",\n",
    "#     \"Connection\": \"keep-alive\"\n",
    "# }\n",
    "\n",
    "comp_urls = [\"https://seekingalpha.com/article/4261066-american-international-group-inc-aig-ceo-brian-duperreault-on-q1-2019-results-earnings-call\",\n",
    "             \"https://seekingalpha.com/article/4257313-altra-industrial-motion-corp-aimc-ceo-carl-christenson-on-q1-2019-results-earnings-call\",\n",
    "             \"https://seekingalpha.com/article/4259328-allstate-corporation-all-ceo-tom-wilson-on-q1-2019-results-earnings-call-transcript\",\n",
    "             \"https://seekingalpha.com/article/4263877-allot-ltd-allt-ceo-on-erez-antebi-q1-2019-results-earnings-call-transcript\",\n",
    "             \"https://seekingalpha.com/article/4256277-brinks-company-bco-ceo-doug-pertz-on-q1-2019-results-earnings-call-transcript\",\n",
    "             \"https://seekingalpha.com/article/4257794-cadence-bancorporation-cade-ceo-paul-murphy-on-q1-2019-results-earnings-call-transcript\",\n",
    "             \"https://seekingalpha.com/article/4260743-clarus-corporation-clar-q1-2019-results-earnings-call-transcript\",\n",
    "             \"https://seekingalpha.com/article/4241565-deere-and-company-de-q1-2019-results-earnings-call-transcript\",\n",
    "             \"https://seekingalpha.com/article/4263033-dxp-enterprises-inc-dxpe-ceo-david-little-on-q1-2019-results-earnings-call-transcript\",\n",
    "             \"https://seekingalpha.com/article/4261129-howard-hughes-corporations-hhc-ceo-david-weinreb-on-q1-2019-results-earnings-call-transcript\",\n",
    "             \"https://seekingalpha.com/article/4258852-huron-consulting-group-inc-hurn-ceo-james-roth-on-q1-2019-results-earnings-call-transcript\",\n",
    "             \"https://seekingalpha.com/article/4263856-infusystem-holdings-inc-infu-ceo-rich-dilorio-on-q1-2019-results-earnings-call-transcript\",\n",
    "             \"https://seekingalpha.com/article/4260973-insmed-inc-insm-ceo-william-lewis-on-q1-2019-results-earnings-call-transcript\",\n",
    "#              \"https://seekingalpha.com/article/4236503-apple-inc-aapl-ceo-tim-cook-on-q1-2019-results-earnings-call-transcript\",\n",
    "#              \"https://seekingalpha.com/article/4256968-amazon-com-inc-amzn-q1-2019-results-earnings-call-transcript\"\n",
    "            ]\n",
    "\n",
    "complexity_list = gunning_fog_lst(comp_urls)\n",
    "\n",
    "print(complexity_list)"
   ]
  },
  {
   "cell_type": "code",
   "execution_count": 16,
   "id": "180b4d4a",
   "metadata": {},
   "outputs": [
    {
     "name": "stdout",
     "output_type": "stream",
     "text": [
      "[8.859197833637097, 20.236342189896856, 15.204743497891563, 31.22977155255791, 15.43822628741082, 6.834791265235797, 25.269341122244068, 5.027244301956937, 34.45790472915619, 8.1909290829718, -3.8477146309859864, 40.92218519214513, 36.765395047134916]\n"
     ]
    }
   ],
   "source": [
    "import pandas as pd\n",
    "df = pd.read_csv('data.csv')\n",
    "companies = list(df)\n",
    "companies = companies[1:]\n",
    "# print(companies)\n",
    "\n",
    "newDf = df[[\"AIG\", \"AIMC\", \"ALL\", \"ALLT\", \"BCO\", \"CADE\", \"CLAR\", \"DE\", \"DXPE\", \"HHC\", \"HURN\", \"INFU\", \"INSM\"]].copy()\n",
    "\n",
    "l = []\n",
    "for i in range(len(newDf.columns)):\n",
    "    l.append(100*(newDf.iloc[12,i] - newDf.iloc[0,i])/newDf.iloc[0,i])\n",
    "\n",
    "df2 = pd.DataFrame(l, index= [\"AIG\", \"AIMC\", \"ALL\", \"ALLT\", \"BCO\", \"CADE\", \"CLAR\", \"DE\", \"DXPE\", \"HHC\", \"HURN\", \"INFU\", \"INSM\"])\n",
    "\n",
    "returns_list = list(df2[0])\n",
    "\n",
    "print(returns_list)"
   ]
  },
  {
   "cell_type": "code",
   "execution_count": 74,
   "id": "708469f4",
   "metadata": {},
   "outputs": [
    {
     "name": "stdout",
     "output_type": "stream",
     "text": [
      "Figure(432x432)\n"
     ]
    },
    {
     "data": {
      "image/png": "[encoded data removed]",
      "text/plain": [
       "<Figure size 432x432 with 1 Axes>"
      ]
     },
     "metadata": {
      "needs_background": "light"
     },
     "output_type": "display_data"
    }
   ],
   "source": [
    "from matplotlib import pyplot as plt #import pyplot library\n",
    "import numpy as np #import numpy library\n",
    "\n",
    "#calculate the correlation coefficient\n",
    "my_number = np.corrcoef(complexity_list, returns_list)[0,1]\n",
    "\n",
    "#create a subplot\n",
    "fig, ax = plt.subplots(figsize = (6, 6))\n",
    "\n",
    "#add a scatter graph to the axis\n",
    "ax.scatter(complexity_list, returns_list)\n",
    "\n",
    "#set title\n",
    "ax.title.set_text('Gunning Fog Index vs Returns')\n",
    "\n",
    "#set axis labels\n",
    "ax.set(xlabel = 'Gunning Fog Index', ylabel = '2019 Q1 Returns')\n",
    "\n",
    "#add the correlation coefficient to the axis\n",
    "ax.text(12, 50, \"The correlation coefficient is: \" + str(np.round(my_number, 2)))\n",
    "\n",
    "#prints the figure\n",
    "print(fig)"
   ]
  },
  {
   "cell_type": "code",
   "execution_count": 75,
   "id": "d2373fc4",
   "metadata": {},
   "outputs": [
    {
     "name": "stdout",
     "output_type": "stream",
     "text": [
      "Figure(432x432)\n"
     ]
    },
    {
     "data": {
      "image/png": "[encoded data removed]",
      "text/plain": [
       "<Figure size 432x432 with 1 Axes>"
      ]
     },
     "metadata": {
      "needs_background": "light"
     },
     "output_type": "display_data"
    }
   ],
   "source": [
    "#create a subplot\n",
    "fig2, ax2 = plt.subplots(figsize = (6, 6))\n",
    "\n",
    "#turns the complexity_list into a numpy array\n",
    "x = np.array(complexity_list)\n",
    "\n",
    "#create basic scatterplot\n",
    "ax2.scatter(complexity_list, returns_list)\n",
    "\n",
    "#obtain m (slope) and b(intercept) of linear regression line\n",
    "m, b = np.polyfit(complexity_list, returns_list, 1)\n",
    "\n",
    "#add linear regression line to scatterplot\n",
    "ax2.plot(x, m*x+b, 'orange')\n",
    "\n",
    "#sets a title\n",
    "ax2.title.set_text('Linear Regression: Gunning Fog Index vs Returns')\n",
    "\n",
    "#sets axis labels\n",
    "ax2.set(xlabel = 'Gunning Fog Index', ylabel = '2019 Q1 Returns')\n",
    "\n",
    "#prints figure\n",
    "print(fig2)"
   ]
  },
  {
   "cell_type": "code",
   "execution_count": null,
   "id": "8a01bd5d",
   "metadata": {},
   "outputs": [],
   "source": []
  }
 ],
 "metadata": {
  "kernelspec": {
   "display_name": "Python 3 (ipykernel)",
   "language": "python",
   "name": "python3"
  },
  "language_info": {
   "codemirror_mode": {
    "name": "ipython",
    "version": 3
   },
   "file_extension": ".py",
   "mimetype": "text/x-python",
   "name": "python",
   "nbconvert_exporter": "python",
   "pygments_lexer": "ipython3",
   "version": "3.9.7"
  }
 },
 "nbformat": 4,
 "nbformat_minor": 5
}

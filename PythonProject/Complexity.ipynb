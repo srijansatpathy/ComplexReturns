{
 "cells": [
  {
   "cell_type": "code",
   "execution_count": 1,
   "id": "c1e975af",
   "metadata": {},
   "outputs": [
    {
     "name": "stdout",
     "output_type": "stream",
     "text": [
      "✔ Download and installation successful\n",
      "You can now load the package via spacy.load('en_core_web_sm')\n"
     ]
    }
   ],
   "source": [
    "import requests\n",
    "from bs4 import BeautifulSoup\n",
    "from gunningfog import GunningFog\n",
    "\n",
    "# session = requests.Session()\n",
    "# session.headers = {\n",
    "#     \"User-Agent\": \"Mozilla/5.0 (Windows NT 10.0; Win64; x64) AppleWebKit/537.36 (KHTML, like Gecko) Chrome/71.1.2222.33 Safari/537.36\",\n",
    "#     \"Accept-Encoding\": \"*\",\n",
    "#     \"Connection\": \"keep-alive\"\n",
    "# }\n",
    "# response = session.get(request_url)"
   ]
  },
  {
   "cell_type": "code",
   "execution_count": 2,
   "id": "b2de6e36",
   "metadata": {},
   "outputs": [],
   "source": [
    "# url = \"https://seekingalpha.com/article/4236503-apple-inc-aapl-ceo-tim-cook-on-q1-2019-results-earnings-call-transcript\"\n",
    "# req = requests.get(url)\n",
    "# # https://github.com/h5py/h5py/issues/1477"
   ]
  },
  {
   "cell_type": "code",
   "execution_count": 3,
   "id": "d1a9ed3b",
   "metadata": {},
   "outputs": [],
   "source": [
    "# soup = BeautifulSoup(req.content, \"html.parser\")"
   ]
  },
  {
   "cell_type": "code",
   "execution_count": 4,
   "id": "7c125100",
   "metadata": {},
   "outputs": [],
   "source": [
    "# text = soup.get_text().split(\"\\n\")"
   ]
  },
  {
   "cell_type": "code",
   "execution_count": 5,
   "id": "00532513",
   "metadata": {},
   "outputs": [],
   "source": [
    "# execs = []\n",
    "# for i in range(len(text)):\n",
    "#     if text[i] == \"Company Participants\":\n",
    "#         pos = i + 1\n",
    "#         while text[pos] != \"Conference Call Participants\":\n",
    "#             execs.append(text[pos].split(\"-\")[0][:-1])\n",
    "#             pos += 1\n",
    "#         break"
   ]
  },
  {
   "cell_type": "code",
   "execution_count": 6,
   "id": "224efcfa",
   "metadata": {},
   "outputs": [],
   "source": [
    "# start = text.index(execs[0]) + 1\n",
    "\n",
    "# def make_lst(start, text):\n",
    "#     exec_lst = []\n",
    "#     for i in range(start, len(text)):\n",
    "#         phrase = text[i].strip()\n",
    "#         if phrase == \"Question-and-Answer Session\":\n",
    "#             break\n",
    "#         elif phrase in execs:\n",
    "#             continue\n",
    "#         else:\n",
    "#             exec_lst.append(phrase)\n",
    "#     return exec_lst\n",
    "\n",
    "# exec_lst = make_lst(start, text)"
   ]
  },
  {
   "cell_type": "code",
   "execution_count": 7,
   "id": "9c24b581",
   "metadata": {},
   "outputs": [],
   "source": [
    "# exec_str = \"\"\n",
    "# for phrase in exec_lst:\n",
    "#     exec_str += phrase + \" \""
   ]
  },
  {
   "cell_type": "code",
   "execution_count": 8,
   "id": "1d800fbb",
   "metadata": {},
   "outputs": [],
   "source": [
    "# fog = GunningFog(exec_str)"
   ]
  },
  {
   "cell_type": "code",
   "execution_count": 9,
   "id": "5044461a",
   "metadata": {},
   "outputs": [],
   "source": [
    "# print(fog.gFogIndex())"
   ]
  },
  {
   "cell_type": "code",
   "execution_count": 10,
   "id": "c9dace9f",
   "metadata": {},
   "outputs": [],
   "source": [
    "# import pandas as pd"
   ]
  },
  {
   "cell_type": "code",
   "execution_count": 11,
   "id": "87975e5c",
   "metadata": {},
   "outputs": [],
   "source": [
    "# df = pd.read_csv('data.csv')"
   ]
  },
  {
   "cell_type": "code",
   "execution_count": 12,
   "id": "08730acf",
   "metadata": {},
   "outputs": [],
   "source": [
    "# companies = list(df)"
   ]
  },
  {
   "cell_type": "code",
   "execution_count": 13,
   "id": "3f328f61",
   "metadata": {},
   "outputs": [],
   "source": [
    "# companies = companies[1:]\n",
    "# print(companies)"
   ]
  },
  {
   "cell_type": "code",
   "execution_count": 14,
   "id": "ee9f2a7f",
   "metadata": {},
   "outputs": [],
   "source": [
    "# def make_lst(start, text):\n",
    "#             exec_lst = []\n",
    "#             for i in range(start, len(text)):\n",
    "#                 phrase = text[i].strip()\n",
    "#                 if phrase == \"Question-and-Answer Session\":\n",
    "#                     break\n",
    "#                 elif phrase in execs:\n",
    "#                     continue\n",
    "#                 else:\n",
    "#                     exec_lst.append(phrase)\n",
    "#             return exec_lst\n",
    "        \n",
    "def gunning_fog_lst(comp_urls):\n",
    "    complexities = []\n",
    "    for url in comp_urls:\n",
    "        req = requests.get(url)\n",
    "        soup = BeautifulSoup(req.content, \"html.parser\")\n",
    "        text = soup.get_text().split(\"\\n\")\n",
    "        \n",
    "        execs = []\n",
    "        for i in range(len(text)):\n",
    "            if text[i] == \"Company Participants\":\n",
    "                pos = i + 1\n",
    "                while text[pos] != \"Conference Call Participants\":\n",
    "                    execs.append(text[pos].split(\"-\")[0][:-1])\n",
    "                    pos += 1\n",
    "                break\n",
    "                \n",
    "        start = text.index(execs[0]) + 1\n",
    "        exec_lst = []\n",
    "        for i in range(start, len(text)):\n",
    "            phrase = text[i].strip()\n",
    "            if phrase == \"Question-and-Answer Session\":\n",
    "                break\n",
    "            elif phrase in execs:\n",
    "                continue\n",
    "            else:\n",
    "                exec_lst.append(phrase)\n",
    "                    \n",
    "        exec_str = \"\"\n",
    "        for phrase in exec_lst:\n",
    "            exec_str += phrase + \" \"\n",
    "            \n",
    "        fog = GunningFog(exec_str)\n",
    "        \n",
    "        complexities.append(fog.gFogIndex())\n",
    "    return complexities"
   ]
  },
  {
   "cell_type": "code",
   "execution_count": 15,
   "id": "49168d1d",
   "metadata": {},
   "outputs": [
    {
     "name": "stdout",
     "output_type": "stream",
     "text": [
      "[15.436101225702547, 13.360783990051559, 14.085951219512197, 13.616715716313989, 14.459105668058095, 13.62897531771649, 15.602926057840225, 13.524035740501683, 11.710533018009825, 13.5795195954488, 13.613526804687027, 12.268684025334272, 14.20848192547592]\n"
     ]
    }
   ],
   "source": [
    "# AIG, AIMC, ALL, ALLT, BCO, CADE, CLAR, DE, DXPE, HHC, HURN, INFU, INSM\n",
    "# session = requests.Session()\n",
    "# session.headers = {\n",
    "#     \"User-Agent\": \"Mozilla/5.0 (Windows NT 10.0; Win64; x64) AppleWebKit/537.36 (KHTML, like Gecko) Chrome/71.1.2222.33 Safari/537.36\",\n",
    "#     \"Accept-Encoding\": \"*\",\n",
    "#     \"Connection\": \"keep-alive\"\n",
    "# }\n",
    "\n",
    "comp_urls = [\"https://seekingalpha.com/article/4261066-american-international-group-inc-aig-ceo-brian-duperreault-on-q1-2019-results-earnings-call\",\n",
    "             \"https://seekingalpha.com/article/4257313-altra-industrial-motion-corp-aimc-ceo-carl-christenson-on-q1-2019-results-earnings-call\",\n",
    "             \"https://seekingalpha.com/article/4259328-allstate-corporation-all-ceo-tom-wilson-on-q1-2019-results-earnings-call-transcript\",\n",
    "             \"https://seekingalpha.com/article/4263877-allot-ltd-allt-ceo-on-erez-antebi-q1-2019-results-earnings-call-transcript\",\n",
    "             \"https://seekingalpha.com/article/4256277-brinks-company-bco-ceo-doug-pertz-on-q1-2019-results-earnings-call-transcript\",\n",
    "             \"https://seekingalpha.com/article/4257794-cadence-bancorporation-cade-ceo-paul-murphy-on-q1-2019-results-earnings-call-transcript\",\n",
    "             \"https://seekingalpha.com/article/4260743-clarus-corporation-clar-q1-2019-results-earnings-call-transcript\",\n",
    "             \"https://seekingalpha.com/article/4241565-deere-and-company-de-q1-2019-results-earnings-call-transcript\",\n",
    "             \"https://seekingalpha.com/article/4263033-dxp-enterprises-inc-dxpe-ceo-david-little-on-q1-2019-results-earnings-call-transcript\",\n",
    "             \"https://seekingalpha.com/article/4261129-howard-hughes-corporations-hhc-ceo-david-weinreb-on-q1-2019-results-earnings-call-transcript\",\n",
    "             \"https://seekingalpha.com/article/4258852-huron-consulting-group-inc-hurn-ceo-james-roth-on-q1-2019-results-earnings-call-transcript\",\n",
    "             \"https://seekingalpha.com/article/4263856-infusystem-holdings-inc-infu-ceo-rich-dilorio-on-q1-2019-results-earnings-call-transcript\",\n",
    "             \"https://seekingalpha.com/article/4260973-insmed-inc-insm-ceo-william-lewis-on-q1-2019-results-earnings-call-transcript\",\n",
    "#              \"https://seekingalpha.com/article/4236503-apple-inc-aapl-ceo-tim-cook-on-q1-2019-results-earnings-call-transcript\",\n",
    "#              \"https://seekingalpha.com/article/4256968-amazon-com-inc-amzn-q1-2019-results-earnings-call-transcript\"\n",
    "            ]\n",
    "\n",
    "complexity_list = gunning_fog_lst(comp_urls)\n",
    "\n",
    "print(complexity_list)"
   ]
  },
  {
   "cell_type": "code",
   "execution_count": 16,
   "id": "180b4d4a",
   "metadata": {},
   "outputs": [
    {
     "name": "stdout",
     "output_type": "stream",
     "text": [
      "[8.859197833637097, 20.236342189896856, 15.204743497891563, 31.229771552557928, 15.43822628741082, 6.834791265235797, 25.269341122244068, 5.027244301956937, 34.45790472915617, 8.1909290829718, -3.8477146309859727, 40.92218519214515, 36.765395047134916]\n"
     ]
    }
   ],
   "source": [
    "import pandas as pd\n",
    "df = pd.read_csv('data.csv')\n",
    "companies = list(df)\n",
    "companies = companies[1:]\n",
    "# print(companies)\n",
    "\n",
    "newDf = df[[\"AIG\", \"AIMC\", \"ALL\", \"ALLT\", \"BCO\", \"CADE\", \"CLAR\", \"DE\", \"DXPE\", \"HHC\", \"HURN\", \"INFU\", \"INSM\"]].copy()\n",
    "\n",
    "l = []\n",
    "for i in range(len(newDf.columns)):\n",
    "    l.append(100*(newDf.iloc[12,i] - newDf.iloc[0,i])/newDf.iloc[0,i])\n",
    "\n",
    "df2 = pd.DataFrame(l, index= [\"AIG\", \"AIMC\", \"ALL\", \"ALLT\", \"BCO\", \"CADE\", \"CLAR\", \"DE\", \"DXPE\", \"HHC\", \"HURN\", \"INFU\", \"INSM\"])\n",
    "\n",
    "returns_list = list(df2[0])\n",
    "\n",
    "print(returns_list)"
   ]
  },
  {
   "cell_type": "code",
   "execution_count": 60,
   "id": "708469f4",
   "metadata": {},
   "outputs": [
    {
     "name": "stdout",
     "output_type": "stream",
     "text": [
      "The correlation coefficient is -0.3215218596755971\n"
     ]
    },
    {
     "data": {
      "text/plain": [
       "<matplotlib.collections.PathCollection at 0x1b1f0d21e50>"
      ]
     },
     "execution_count": 60,
     "metadata": {},
     "output_type": "execute_result"
    },
    {
     "data": {
      "image/png": "[encoded data removed]",
      "text/plain": [
       "<Figure size 432x288 with 1 Axes>"
      ]
     },
     "metadata": {
      "needs_background": "light"
     },
     "output_type": "display_data"
    }
   ],
   "source": [
    "from matplotlib import pyplot as plt\n",
    "import numpy as np\n",
    "my_number = np.corrcoef(complexity_list, returns_list) #calculates the correlation coefficient\n",
    "print(f\"The correlation coefficient is {my_number[0][1]}\")\n",
    "# fig, ax = plt.subplots(figsize = (9, 5))\n",
    "plt.xlabel('Gunning Fog Index')\n",
    "plt.ylabel('2019 Q1 Returns')\n",
    "plt.scatter(complexity_list, returns_list)"
   ]
  },
  {
   "cell_type": "code",
   "execution_count": 48,
   "id": "8687c4b6",
   "metadata": {},
   "outputs": [],
   "source": [
    "m, b = np.polyfit(complexity_list, returns_list, 1)"
   ]
  },
  {
   "cell_type": "code",
   "execution_count": 63,
   "id": "d2373fc4",
   "metadata": {},
   "outputs": [
    {
     "data": {
      "image/png": "[encoded data removed]",
      "text/plain": [
       "<Figure size 432x288 with 1 Axes>"
      ]
     },
     "metadata": {
      "needs_background": "light"
     },
     "output_type": "display_data"
    }
   ],
   "source": [
    "x = np.linspace(11, 16, num=13)\n",
    "plt.plot(x, m*x+b)\n",
    "plt.ylabel('2019 Q1 Returns (Regression)')\n",
    "plt.xlabel('Gunning Fog Index (Regression)')\n",
    "# my_number = np.corrcoef(returns_list, complexity_list) #calculates the correlation coefficient\n",
    "# print(my_number[0][1])\n",
    "# ax2 = ax.secondary_xaxis('top') #makes a secondary x-axis on top\n",
    "#             ax2.set(xlabel = r\"$\\rho$ = \" + str(np.round(my_number, 2)))\n",
    "\n",
    "plt.show()"
   ]
  }
 ],
 "metadata": {
  "kernelspec": {
   "display_name": "Python 3",
   "language": "python",
   "name": "python3"
  },
  "language_info": {
   "codemirror_mode": {
    "name": "ipython",
    "version": 3
   },
   "file_extension": ".py",
   "mimetype": "text/x-python",
   "name": "python",
   "nbconvert_exporter": "python",
   "pygments_lexer": "ipython3",
   "version": "3.8.8"
  }
 },
 "nbformat": 4,
 "nbformat_minor": 5
}

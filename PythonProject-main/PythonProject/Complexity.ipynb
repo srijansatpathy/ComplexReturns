{
 "cells": [
  {
   "cell_type": "code",
   "execution_count": 1,
   "id": "c1e975af",
   "metadata": {},
   "outputs": [
    {
     "name": "stdout",
     "output_type": "stream",
     "text": [
      "✔ Download and installation successful\n",
      "You can now load the package via spacy.load('en_core_web_sm')\n"
     ]
    }
   ],
   "source": [
    "# imports needed for URL scraping\n",
    "import requests\n",
    "from bs4 import BeautifulSoup\n",
    "\n",
    "# imports the custom complexity class\n",
    "from gunningfog import GunningFog\n",
    "\n",
    "# imports needed for returns data manipulation and plotting\n",
    "import pandas as pd\n",
    "from matplotlib import pyplot as plt\n",
    "import numpy as np"
   ]
  },
  {
   "cell_type": "code",
   "execution_count": 2,
   "id": "ee9f2a7f",
   "metadata": {},
   "outputs": [],
   "source": [
    "def gunning_fog_lst(comp_urls):\n",
    "    '''\n",
    "    This function serves as the main body of the Gunning\n",
    "    Fog functionality. When provided with a list of URLs,\n",
    "    the function iterates through each URL and produces\n",
    "    the relevant excerpt of the earnings call and inputs\n",
    "    this string to a GunningFog object, appending each\n",
    "    complexity score to a list. The final return value\n",
    "    is a list of ordered complexity scores by URL.\n",
    "    \n",
    "    Args: list of string URLs\n",
    "    Returns: list of complexity scores\n",
    "    '''\n",
    "    # empty list of complexities to be filled in\n",
    "    complexities = []\n",
    "    \n",
    "    # iterates through each URL\n",
    "    for url in comp_urls:\n",
    "        # gets the website info through a request and parses\n",
    "        # the HTML, getting the text and splitting by\n",
    "        # new line\n",
    "        req = requests.get(url)\n",
    "        soup = BeautifulSoup(req.content, \"html.parser\")\n",
    "        text = soup.get_text().split(\"\\n\")\n",
    "        \n",
    "        # makes a list of the company participants in the earnings call\n",
    "        execs = []\n",
    "        for i in range(len(text)):\n",
    "            if text[i] == \"Company Participants\":\n",
    "                pos = i + 1\n",
    "                # once the section is found, iterate through each item\n",
    "                # and get the name by splitting by -\n",
    "                while text[pos] != \"Conference Call Participants\":\n",
    "                    execs.append(text[pos].split(\"-\")[0][:-1])\n",
    "                    pos += 1\n",
    "                break\n",
    "        \n",
    "        # start after the line mentioning the first executive's name\n",
    "        # this begins the relevant dialogue\n",
    "        start = text.index(execs[0]) + 1\n",
    "        exec_lst = []\n",
    "        # iterate until the Q and A section of the call\n",
    "        for i in range(start, len(text)):\n",
    "            phrase = text[i].strip()\n",
    "            if phrase == \"Question-and-Answer Session\":\n",
    "                break\n",
    "            # do not include the executive names\n",
    "            elif phrase in execs:\n",
    "                continue\n",
    "            # append the relevant dialogue to a list\n",
    "            else:\n",
    "                exec_lst.append(phrase)\n",
    "        \n",
    "        # make string by concatenating lines of dialogue\n",
    "        exec_str = \"\"\n",
    "        for phrase in exec_lst:\n",
    "            exec_str += phrase + \" \"\n",
    "        \n",
    "        # pass string to GunningFog object\n",
    "        fog = GunningFog(exec_str)\n",
    "        \n",
    "        # append the URL's complexity to the initial list\n",
    "        complexities.append(fog.gFogIndex())\n",
    "        \n",
    "    return complexities"
   ]
  },
  {
   "cell_type": "code",
   "execution_count": 3,
   "id": "49168d1d",
   "metadata": {},
   "outputs": [
    {
     "name": "stdout",
     "output_type": "stream",
     "text": [
      "[15.436101225702547, 13.360783990051559, 14.085951219512197, 13.616715716313989, 14.459105668058095, 13.62897531771649, 15.602926057840225, 13.524035740501683, 11.710533018009825, 13.5795195954488, 13.613526804687027, 12.268684025334272, 14.20848192547592]\n"
     ]
    }
   ],
   "source": [
    "# list of 13 company tickers used\n",
    "companies = [\"AIG\", \"AIMC\", \"ALL\", \"ALLT\", \"BCO\", \"CADE\", \"CLAR\", \"DE\", \"DXPE\", \"HHC\", \"HURN\", \"INFU\", \"INSM\"]\n",
    "\n",
    "# list of the 13 company URLs\n",
    "comp_urls = [\"https://seekingalpha.com/article/4261066-american-international-group-inc-aig-ceo-brian-duperreault-on-q1-2019-results-earnings-call\",\n",
    "             \"https://seekingalpha.com/article/4257313-altra-industrial-motion-corp-aimc-ceo-carl-christenson-on-q1-2019-results-earnings-call\",\n",
    "             \"https://seekingalpha.com/article/4259328-allstate-corporation-all-ceo-tom-wilson-on-q1-2019-results-earnings-call-transcript\",\n",
    "             \"https://seekingalpha.com/article/4263877-allot-ltd-allt-ceo-on-erez-antebi-q1-2019-results-earnings-call-transcript\",\n",
    "             \"https://seekingalpha.com/article/4256277-brinks-company-bco-ceo-doug-pertz-on-q1-2019-results-earnings-call-transcript\",\n",
    "             \"https://seekingalpha.com/article/4257794-cadence-bancorporation-cade-ceo-paul-murphy-on-q1-2019-results-earnings-call-transcript\",\n",
    "             \"https://seekingalpha.com/article/4260743-clarus-corporation-clar-q1-2019-results-earnings-call-transcript\",\n",
    "             \"https://seekingalpha.com/article/4241565-deere-and-company-de-q1-2019-results-earnings-call-transcript\",\n",
    "             \"https://seekingalpha.com/article/4263033-dxp-enterprises-inc-dxpe-ceo-david-little-on-q1-2019-results-earnings-call-transcript\",\n",
    "             \"https://seekingalpha.com/article/4261129-howard-hughes-corporations-hhc-ceo-david-weinreb-on-q1-2019-results-earnings-call-transcript\",\n",
    "             \"https://seekingalpha.com/article/4258852-huron-consulting-group-inc-hurn-ceo-james-roth-on-q1-2019-results-earnings-call-transcript\",\n",
    "             \"https://seekingalpha.com/article/4263856-infusystem-holdings-inc-infu-ceo-rich-dilorio-on-q1-2019-results-earnings-call-transcript\",\n",
    "             \"https://seekingalpha.com/article/4260973-insmed-inc-insm-ceo-william-lewis-on-q1-2019-results-earnings-call-transcript\"\n",
    "            ]\n",
    "\n",
    "# use the declared function to get list of complexities\n",
    "complexity_list = gunning_fog_lst(comp_urls)\n",
    "\n",
    "print(complexity_list)"
   ]
  },
  {
   "cell_type": "code",
   "execution_count": 4,
   "id": "180b4d4a",
   "metadata": {},
   "outputs": [
    {
     "name": "stdout",
     "output_type": "stream",
     "text": [
      "[8.859197833637097, 20.236342189896856, 15.204743497891563, 31.229771552557928, 15.43822628741082, 6.834791265235797, 25.269341122244068, 5.027244301956937, 34.45790472915617, 8.1909290829718, -3.8477146309859727, 40.92218519214515, 36.765395047134916]\n"
     ]
    }
   ],
   "source": [
    "# make dataframe with pre-processed ticker data\n",
    "df = pd.read_csv(\"data.csv\")\n",
    "# make new dataframe with only 13 companies\n",
    "newDf = df[companies].copy()\n",
    "\n",
    "# empty returns list\n",
    "L = []\n",
    "# \n",
    "for i in range(len(newDf.columns)):\n",
    "    # calculate percent change in 2019 Q1 returns\n",
    "    L.append(100 * (newDf.iloc[12, i] - newDf.iloc[0, i]) / newDf.iloc[0, i])\n",
    "\n",
    "# dataframe with just tickers and their return percentages\n",
    "df_returns = pd.DataFrame(L, index = companies)\n",
    "\n",
    "# make into list for plotting\n",
    "returns_list = list(df_returns[0])\n",
    "\n",
    "print(returns_list)"
   ]
  },
  {
   "cell_type": "code",
   "execution_count": 5,
   "id": "708469f4",
   "metadata": {},
   "outputs": [
    {
     "name": "stdout",
     "output_type": "stream",
     "text": [
      "Figure(432x432)\n"
     ]
    },
    {
     "data": {
      "image/png": "[encoded data removed]",
      "text/plain": [
       "<Figure size 432x432 with 1 Axes>"
      ]
     },
     "metadata": {
      "needs_background": "light"
     },
     "output_type": "display_data"
    }
   ],
   "source": [
    "# calculate the correlation coefficient\n",
    "my_number = np.corrcoef(complexity_list, returns_list)[0, 1]\n",
    "\n",
    "# create a subplot\n",
    "fig, ax = plt.subplots(figsize = (6, 6))\n",
    "\n",
    "# add a scatter graph to the axis\n",
    "ax.scatter(complexity_list, returns_list)\n",
    "\n",
    "# set title\n",
    "ax.title.set_text('Gunning Fog Index vs Returns')\n",
    "\n",
    "# set axis labels\n",
    "ax.set(xlabel = 'Gunning Fog Index', ylabel = '2019 Q1 Returns')\n",
    "\n",
    "# add the correlation coefficient to the axis\n",
    "ax.text(12, 50, \"The correlation coefficient is: \" + str(np.round(my_number, 2)))\n",
    "\n",
    "print(fig)"
   ]
  },
  {
   "cell_type": "code",
   "execution_count": 6,
   "id": "d2373fc4",
   "metadata": {},
   "outputs": [
    {
     "name": "stdout",
     "output_type": "stream",
     "text": [
      "Figure(432x432)\n"
     ]
    },
    {
     "data": {
      "image/png": "[encoded data removed]",
      "text/plain": [
       "<Figure size 432x432 with 1 Axes>"
      ]
     },
     "metadata": {
      "needs_background": "light"
     },
     "output_type": "display_data"
    }
   ],
   "source": [
    "# create a subplot\n",
    "fig2, ax2 = plt.subplots(figsize = (6, 6))\n",
    "\n",
    "# turns the complexity_list into a numpy array\n",
    "x = np.array(complexity_list)\n",
    "\n",
    "# create basic scatterplot\n",
    "ax2.scatter(complexity_list, returns_list)\n",
    "\n",
    "# obtain m (slope) and b(intercept) of linear regression line\n",
    "m, b = np.polyfit(complexity_list, returns_list, 1)\n",
    "\n",
    "# add linear regression line to scatterplot\n",
    "ax2.plot(x, m*x+b, \"orange\")\n",
    "\n",
    "# sets a title\n",
    "ax2.title.set_text(\"Linear Regression: Gunning Fog Index vs Returns\")\n",
    "\n",
    "# sets axis labels\n",
    "ax2.set(xlabel = \"Gunning Fog Index\", ylabel = \"2019 Q1 Returns\")\n",
    "\n",
    "print(fig2)"
   ]
  },
  {
   "cell_type": "code",
   "execution_count": null,
   "id": "8a01bd5d",
   "metadata": {},
   "outputs": [],
   "source": []
  }
 ],
 "metadata": {
  "kernelspec": {
   "display_name": "Python 3",
   "language": "python",
   "name": "python3"
  },
  "language_info": {
   "codemirror_mode": {
    "name": "ipython",
    "version": 3
   },
   "file_extension": ".py",
   "mimetype": "text/x-python",
   "name": "python",
   "nbconvert_exporter": "python",
   "pygments_lexer": "ipython3",
   "version": "3.8.8"
  }
 },
 "nbformat": 4,
 "nbformat_minor": 5
}
